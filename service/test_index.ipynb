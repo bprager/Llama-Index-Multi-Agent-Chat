{
 "cells": [
  {
   "cell_type": "markdown",
   "metadata": {},
   "source": [
    "## test llama-index-retriever"
   ]
  },
  {
   "cell_type": "code",
   "execution_count": 1,
   "metadata": {},
   "outputs": [
    {
     "name": "stderr",
     "output_type": "stream",
     "text": [
      "Received notification from DBMS server: {severity: WARNING} {code: Neo.ClientNotification.Statement.FeatureDeprecationWarning} {category: DEPRECATION} {title: This feature is deprecated and will be removed in future versions.} {description: The procedure has a deprecated field. ('config' used by 'apoc.meta.graphSample' is deprecated.)} {position: line: 1, column: 1, offset: 0} for query: \"CALL apoc.meta.graphSample() YIELD nodes, relationships RETURN nodes, [rel in relationships | {name:apoc.any.property(rel, 'type'), count: apoc.any.property(rel, 'count')}] AS relationships\"\n",
      "Received notification from DBMS server: {severity: WARNING} {code: Neo.ClientNotification.Statement.AggregationSkippedNull} {category: UNRECOGNIZED} {title: The query contains an aggregation function that skips null values.} {description: null value eliminated in set function.} {position: None} for query: 'MATCH (n:`Chunk`)\\nWITH collect(distinct substring(toString(n.`file_type`), 0, 50)) AS `file_type_values`,\\n     collect(distinct substring(toString(n.`doc_id`), 0, 50)) AS `doc_id_values`,\\n     collect(distinct substring(toString(n.`document_id`), 0, 50)) AS `document_id_values`,\\n     collect(distinct substring(toString(n.`creation_date`), 0, 50)) AS `creation_date_values`,\\n     min(n.`file_size`) AS `file_size_min`,\\n     max(n.`file_size`) AS `file_size_max`,\\n     count(distinct n.`file_size`) AS `file_size_distinct`,\\n     collect(distinct substring(toString(n.`_node_content`), 0, 50)) AS `_node_content_values`,\\n     collect(distinct substring(toString(n.`ref_doc_id`), 0, 50)) AS `ref_doc_id_values`,\\n     collect(distinct substring(toString(n.`file_path`), 0, 50)) AS `file_path_values`,\\n     collect(distinct substring(toString(n.`file_name`), 0, 50)) AS `file_name_values`,\\n     collect(distinct substring(toString(n.`last_modified_date`), 0, 50)) AS `last_modified_date_values`,\\n     collect(distinct substring(toString(n.`id`), 0, 50)) AS `id_values`,\\n     collect(distinct substring(toString(n.`_node_type`), 0, 50)) AS `_node_type_values`,\\n     min(size(n.`embedding`)) AS `embedding_size_min`, max(size(n.`embedding`)) AS `embedding_size_max`,\\n     collect(distinct substring(toString(n.`text`), 0, 50)) AS `text_values`\\nRETURN {`file_type`: {values:`file_type_values`[..10], distinct_count: size(`file_type_values`)}, `doc_id`: {values:`doc_id_values`[..10], distinct_count: size(`doc_id_values`)}, `document_id`: {values:`document_id_values`[..10], distinct_count: size(`document_id_values`)}, `creation_date`: {values:`creation_date_values`[..10], distinct_count: size(`creation_date_values`)}, `file_size`: {min: toString(`file_size_min`), max: toString(`file_size_max`), distinct_count: `file_size_distinct`}, `_node_content`: {values:`_node_content_values`[..10], distinct_count: size(`_node_content_values`)}, `ref_doc_id`: {values:`ref_doc_id_values`[..10], distinct_count: size(`ref_doc_id_values`)}, `file_path`: {values:`file_path_values`[..10], distinct_count: size(`file_path_values`)}, `file_name`: {values:`file_name_values`[..10], distinct_count: size(`file_name_values`)}, `last_modified_date`: {values:`last_modified_date_values`[..10], distinct_count: size(`last_modified_date_values`)}, `id`: {values:`id_values`[..10], distinct_count: size(`id_values`)}, `_node_type`: {values:`_node_type_values`[..10], distinct_count: size(`_node_type_values`)}, `embedding`: {min_size: `embedding_size_min`, max_size: `embedding_size_max`}, `text`: {values:`text_values`[..10], distinct_count: size(`text_values`)}} AS output'\n"
     ]
    }
   ],
   "source": [
    "from llama_index.graph_stores.neo4j import Neo4jPGStore\n",
    "\n",
    "graph_store = Neo4jPGStore(\n",
    "    username=\"neo4j\",\n",
    "    password=\"neo4j\",\n",
    "    url=\"bolt://localhost:7687\",\n",
    ")\n",
    "vec_store = None"
   ]
  },
  {
   "cell_type": "code",
   "execution_count": 2,
   "metadata": {},
   "outputs": [],
   "source": [
    "from llama_index.core.indices.property_graph import (\n",
    "    ImplicitPathExtractor,\n",
    "    SimpleLLMPathExtractor,\n",
    ")\n",
    "from llama_index.core import PropertyGraphIndex"
   ]
  },
  {
   "cell_type": "code",
   "execution_count": 3,
   "metadata": {},
   "outputs": [],
   "source": [
    "from llama_index.llms.azure_openai import AzureOpenAI\n",
    "from llama_index.embeddings.azure_openai import AzureOpenAIEmbedding"
   ]
  },
  {
   "cell_type": "code",
   "execution_count": 4,
   "metadata": {},
   "outputs": [
    {
     "data": {
      "text/plain": [
       "True"
      ]
     },
     "execution_count": 4,
     "metadata": {},
     "output_type": "execute_result"
    }
   ],
   "source": [
    "import os\n",
    "from dotenv import load_dotenv\n",
    "load_dotenv()"
   ]
  },
  {
   "cell_type": "code",
   "execution_count": 5,
   "metadata": {},
   "outputs": [],
   "source": [
    "llm = AzureOpenAI(\n",
    "    api_key=os.getenv(\"AZURE_OPENAI_API_KEY\"),\n",
    "    api_version=os.getenv(\"AZURE_OPENAI_API_VERSION\"),\n",
    "    azure_endpoint=os.getenv(\"AZURE_OPENAI_ENDPOINT\"),\n",
    "    model=os.getenv(\"AZURE_OPENAI_MODEL\", \"gpt-4-turbo\"),\n",
    "    deployment_name=os.getenv(\"AZURE_OPENAI_MODEL\"),\n",
    "    temperature=0.8,  # just for the pirate\n",
    ")"
   ]
  },
  {
   "cell_type": "code",
   "execution_count": 6,
   "metadata": {},
   "outputs": [],
   "source": [
    "embed_model = AzureOpenAIEmbedding(\n",
    "    api_key=os.getenv(\"AZURE_OPENAI_API_KEY\"),\n",
    "    api_version=os.getenv(\"AZURE_OPENAI_API_VERSION\"),\n",
    "    azure_endpoint=os.getenv(\"AZURE_OPENAI_ENDPOINT\"),\n",
    "    model=os.getenv(\"AZURE_OPENAI_EMBEDDER_MODEL\", \"text-embedding-ada-002\"),\n",
    "    deployment_name=os.getenv(\"AZURE_OPENAI_EMBEDDER_NAME\"),\n",
    ")"
   ]
  },
  {
   "cell_type": "code",
   "execution_count": 7,
   "metadata": {},
   "outputs": [],
   "source": [
    "index = PropertyGraphIndex.from_existing(\n",
    "    graph_store,\n",
    "    embed_model=embed_model,\n",
    "    kg_extractors=[\n",
    "        ImplicitPathExtractor(),\n",
    "        SimpleLLMPathExtractor(\n",
    "            llm=llm,\n",
    "            num_workers=4,\n",
    "            max_paths_per_chunk=10,\n",
    "        ),\n",
    "    ],\n",
    "    show_progress=True,\n",
    ")"
   ]
  },
  {
   "cell_type": "code",
   "execution_count": 8,
   "metadata": {},
   "outputs": [],
   "source": [
    "from llama_index.core.indices.property_graph import VectorContextRetriever\n",
    "\n",
    "kg_retriever = VectorContextRetriever(\n",
    "    index.property_graph_store,\n",
    "    embed_model=embed_model,\n",
    "    similarity_top_k=2,\n",
    "    path_depth=1,\n",
    "    # include_text=False,\n",
    "    include_text=True,\n",
    ")"
   ]
  },
  {
   "cell_type": "code",
   "execution_count": 9,
   "metadata": {},
   "outputs": [
    {
     "name": "stdout",
     "output_type": "stream",
     "text": [
      "1\n",
      ">> IDX: 0, Here are some facts extracted from the provided text:\n",
      "\n",
      "Expanded coverage residential loan policy -> Provides coverage for -> Damage to improvements\n",
      "Homeowners policy of title insurance -> Provides coverage for -> Damage to improvements\n",
      "\n",
      "First American Title Insurance Company\n",
      "Underwriting Bulletin 2010–19: Gas and Oil and Coal Exceptions in Pennsylvania\n",
      "Page 2 of 2\n",
      "\n",
      "The Coal Exception and Oil and Gas Exception Are Not To Be Removed -                                          Often we receive\n",
      "requests to eliminate an exception for coal, oil, gas, or other mineral interest shown on a title\n",
      "commitment solely because the instrument in question (typically an oil and gas lease) has been recorded\n",
      "for many years and/or there are no visible signs of any activity on the subject premises. Neither of these\n",
      "reasons is sufficient for removing an exception related to coal, oil, gas, or other mineral interest.\n",
      "Nothing short of a recorded release of the instrument in question or a Court Order clearing the title will\n",
      "support a decision to remove such items as exceptions.\n",
      "\n",
      "Affirmative Coverage for The Coal Exception and Oil and Gas Exception - Lenders and owners of\n",
      "1-4 family residential property can obtain affirmative coverage as to surface damage with respect to\n",
      "both the coal exception and the oil and gas exception.                  Both the Expanded Coverage Residential Loan\n",
      "Policy and the Homeowners Policy of Title Insurance (Section 5.17 of the TIRBOP Rate Manual) or the\n",
      "Short Form Residential Loan Policy (Section 5.15 of the TIRBOP Rate Manual) provide coverage for\n",
      "damage to improvements resulting from the future exercise of any right to use the surface of the Land\n",
      "for the extraction or development of minerals, water or any other substance.                        Alternatively, lenders can\n",
      "purchase TIRBOP Endorsement 1030 (ALTA 9 Comprehensive) that provide similar, but less extensive\n",
      "coverage for surface damage due to extraction or development of the minerals.\n",
      "\n",
      "         Effective immediately:              We will no longer provide affirmative coverage for\n",
      "         coal, oil, gas, or other mineral interests by way of the general endorsement\n",
      "         (TIRBOP 1070), or by adding some kind of parenthetical or limiting language\n",
      "         as part of Schedule B of the policy.\n",
      "\n",
      "In transactions involving vacant ground, tracts of ground over 5 acres, or in commercial transactions, we\n",
      "will consider providing TIRBOP 1030 to a lender, and we will consider, upon request, the Owner\n",
      "Comprehensive Endorsement (TIRBOP 1031 or 1032), but such coverage must be approved by your\n",
      "First American underwriter. Certain due diligence will be required before granting such coverage and as\n",
      "is most often the case, we view affirmative coverage in Loan Policies and Owner’s policies differently.\n",
      "\n",
      "In any case, however, we will not give affirmative insurance that the coal, oil, gas, or other mineral\n",
      "interests have not been severed from the ownership of the surface of the Land.\n",
      "\n",
      "Attached is a Sample Schedule B showing the coal exception, the coal Notice, and the oil and gas\n",
      "exception.\n",
      "\n",
      "As always, feel free to contact your local First American office with questions or comments.\n",
      "\n",
      "                                                             * * *\n",
      "\n",
      "          999 Berkshire Blvd. First American Title Insurance Company330 Grant Street, Suite 2300620 Freedom Business Center Dr.\n",
      "        Wyomissing, PA 19610                       King of Prussia, PA 19406                      Pittsburgh, PA 15219\n",
      "            (800) 220-8172                              (800) 486-7015                               (800) 878-0858\n",
      "\n",
      "             Bulletins from 2002 to present are available by logging onto the Pennsylvania\n",
      "            Communications page of AgentNet at: http://agentnet.firstam.com/ACM/Login.aspx\n"
     ]
    }
   ],
   "source": [
    "nodes = kg_retriever.retrieve(\n",
    "    \"Give me all the policies that are related to the environment.\"\n",
    ")\n",
    "print(len(nodes))\n",
    "for idx, node in enumerate(nodes):\n",
    "    print(f\">> IDX: {idx}, {node.get_content()}\")"
   ]
  },
  {
   "cell_type": "code",
   "execution_count": null,
   "metadata": {},
   "outputs": [],
   "source": []
  }
 ],
 "metadata": {
  "kernelspec": {
   "display_name": ".venv",
   "language": "python",
   "name": "python3"
  },
  "language_info": {
   "codemirror_mode": {
    "name": "ipython",
    "version": 3
   },
   "file_extension": ".py",
   "mimetype": "text/x-python",
   "name": "python",
   "nbconvert_exporter": "python",
   "pygments_lexer": "ipython3",
   "version": "3.13.0"
  }
 },
 "nbformat": 4,
 "nbformat_minor": 2
}
